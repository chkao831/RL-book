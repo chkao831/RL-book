{
 "cells": [
  {
   "cell_type": "markdown",
   "metadata": {},
   "source": [
    "# Stanford CME 241 (Winter 2021) - Assignment 4\n",
    "## Frog on Lilypad Revisited (code part)\n",
    "\n",
    "### Chih-Hsuan 'Carolyn' Kao (chkao831@stanford.edu)\n",
    "### Mar 3rd, 2021"
   ]
  },
  {
   "cell_type": "code",
   "execution_count": 1,
   "metadata": {},
   "outputs": [
    {
     "name": "stderr",
     "output_type": "stream",
     "text": [
      "/Users/chih-hsuankao/.pyenv/versions/anaconda3-2019.03/lib/python3.7/site-packages/scipy/__init__.py:137: UserWarning: NumPy 1.16.5 or above is required for this version of SciPy (detected version 1.16.2)\n",
      "  UserWarning)\n"
     ]
    }
   ],
   "source": [
    "import sys\n",
    "sys.path.append('/Users/chih-hsuankao/Desktop/CME241/RL-book/')\n",
    "\n",
    "import matplotlib.pyplot as plt\n",
    "from rl.distribution import Categorical, Constant\n",
    "from rl.dynamic_programming import (\n",
    "    evaluate_mrp_result,\n",
    "    policy_iteration,\n",
    "    policy_iteration_result,\n",
    "    value_iteration,\n",
    "    value_iteration_result\n",
    ")\n",
    "from rl.markov_decision_process import (\n",
    "    FiniteMarkovDecisionProcess,\n",
    "    FinitePolicy,\n",
    "    StateActionMapping\n",
    ")\n",
    "from rl.markov_process import (\n",
    "    Transition,\n",
    "    RewardTransition,\n",
    "    FiniteMarkovProcess,\n",
    "    Optional,\n",
    "    FiniteMarkovRewardProcess\n",
    ")\n",
    "import time"
   ]
  },
  {
   "cell_type": "code",
   "execution_count": 2,
   "metadata": {},
   "outputs": [],
   "source": [
    "sys.path.append('..')\n",
    "import Assignment3.Q3_Frog_croak_lilypad as frog"
   ]
  },
  {
   "cell_type": "code",
   "execution_count": 3,
   "metadata": {},
   "outputs": [
    {
     "name": "stdout",
     "output_type": "stream",
     "text": [
      "MDP Transition Map\n",
      "------------------\n",
      "From State FrogState(position=1):\n",
      "  With Action A:\n",
      "    To [State FrogState(position=0) and Reward 0.000] with Probability 0.100\n",
      "    To [State FrogState(position=2) and Reward 0.000] with Probability 0.900\n",
      "  With Action B:\n",
      "    To [State FrogState(position=0) and Reward 0.000] with Probability 0.100\n",
      "    To [State FrogState(position=2) and Reward 0.000] with Probability 0.100\n",
      "    To [State FrogState(position=3) and Reward 0.000] with Probability 0.100\n",
      "    To [State FrogState(position=4) and Reward 0.000] with Probability 0.100\n",
      "    To [State FrogState(position=5) and Reward 0.000] with Probability 0.100\n",
      "    To [State FrogState(position=6) and Reward 0.000] with Probability 0.100\n",
      "    To [State FrogState(position=7) and Reward 0.000] with Probability 0.100\n",
      "    To [State FrogState(position=8) and Reward 0.000] with Probability 0.100\n",
      "    To [State FrogState(position=9) and Reward 0.000] with Probability 0.100\n",
      "    To [State FrogState(position=10) and Reward 1.000] with Probability 0.100\n",
      "From State FrogState(position=2):\n",
      "  With Action A:\n",
      "    To [State FrogState(position=1) and Reward 0.000] with Probability 0.200\n",
      "    To [State FrogState(position=3) and Reward 0.000] with Probability 0.800\n",
      "  With Action B:\n",
      "    To [State FrogState(position=0) and Reward 0.000] with Probability 0.100\n",
      "    To [State FrogState(position=1) and Reward 0.000] with Probability 0.100\n",
      "    To [State FrogState(position=3) and Reward 0.000] with Probability 0.100\n",
      "    To [State FrogState(position=4) and Reward 0.000] with Probability 0.100\n",
      "    To [State FrogState(position=5) and Reward 0.000] with Probability 0.100\n",
      "    To [State FrogState(position=6) and Reward 0.000] with Probability 0.100\n",
      "    To [State FrogState(position=7) and Reward 0.000] with Probability 0.100\n",
      "    To [State FrogState(position=8) and Reward 0.000] with Probability 0.100\n",
      "    To [State FrogState(position=9) and Reward 0.000] with Probability 0.100\n",
      "    To [State FrogState(position=10) and Reward 1.000] with Probability 0.100\n",
      "From State FrogState(position=3):\n",
      "  With Action A:\n",
      "    To [State FrogState(position=2) and Reward 0.000] with Probability 0.300\n",
      "    To [State FrogState(position=4) and Reward 0.000] with Probability 0.700\n",
      "  With Action B:\n",
      "    To [State FrogState(position=0) and Reward 0.000] with Probability 0.100\n",
      "    To [State FrogState(position=1) and Reward 0.000] with Probability 0.100\n",
      "    To [State FrogState(position=2) and Reward 0.000] with Probability 0.100\n",
      "    To [State FrogState(position=4) and Reward 0.000] with Probability 0.100\n",
      "    To [State FrogState(position=5) and Reward 0.000] with Probability 0.100\n",
      "    To [State FrogState(position=6) and Reward 0.000] with Probability 0.100\n",
      "    To [State FrogState(position=7) and Reward 0.000] with Probability 0.100\n",
      "    To [State FrogState(position=8) and Reward 0.000] with Probability 0.100\n",
      "    To [State FrogState(position=9) and Reward 0.000] with Probability 0.100\n",
      "    To [State FrogState(position=10) and Reward 1.000] with Probability 0.100\n",
      "From State FrogState(position=4):\n",
      "  With Action A:\n",
      "    To [State FrogState(position=3) and Reward 0.000] with Probability 0.400\n",
      "    To [State FrogState(position=5) and Reward 0.000] with Probability 0.600\n",
      "  With Action B:\n",
      "    To [State FrogState(position=0) and Reward 0.000] with Probability 0.100\n",
      "    To [State FrogState(position=1) and Reward 0.000] with Probability 0.100\n",
      "    To [State FrogState(position=2) and Reward 0.000] with Probability 0.100\n",
      "    To [State FrogState(position=3) and Reward 0.000] with Probability 0.100\n",
      "    To [State FrogState(position=5) and Reward 0.000] with Probability 0.100\n",
      "    To [State FrogState(position=6) and Reward 0.000] with Probability 0.100\n",
      "    To [State FrogState(position=7) and Reward 0.000] with Probability 0.100\n",
      "    To [State FrogState(position=8) and Reward 0.000] with Probability 0.100\n",
      "    To [State FrogState(position=9) and Reward 0.000] with Probability 0.100\n",
      "    To [State FrogState(position=10) and Reward 1.000] with Probability 0.100\n",
      "From State FrogState(position=5):\n",
      "  With Action A:\n",
      "    To [State FrogState(position=4) and Reward 0.000] with Probability 0.500\n",
      "    To [State FrogState(position=6) and Reward 0.000] with Probability 0.500\n",
      "  With Action B:\n",
      "    To [State FrogState(position=0) and Reward 0.000] with Probability 0.100\n",
      "    To [State FrogState(position=1) and Reward 0.000] with Probability 0.100\n",
      "    To [State FrogState(position=2) and Reward 0.000] with Probability 0.100\n",
      "    To [State FrogState(position=3) and Reward 0.000] with Probability 0.100\n",
      "    To [State FrogState(position=4) and Reward 0.000] with Probability 0.100\n",
      "    To [State FrogState(position=6) and Reward 0.000] with Probability 0.100\n",
      "    To [State FrogState(position=7) and Reward 0.000] with Probability 0.100\n",
      "    To [State FrogState(position=8) and Reward 0.000] with Probability 0.100\n",
      "    To [State FrogState(position=9) and Reward 0.000] with Probability 0.100\n",
      "    To [State FrogState(position=10) and Reward 1.000] with Probability 0.100\n",
      "From State FrogState(position=6):\n",
      "  With Action A:\n",
      "    To [State FrogState(position=5) and Reward 0.000] with Probability 0.600\n",
      "    To [State FrogState(position=7) and Reward 0.000] with Probability 0.400\n",
      "  With Action B:\n",
      "    To [State FrogState(position=0) and Reward 0.000] with Probability 0.100\n",
      "    To [State FrogState(position=1) and Reward 0.000] with Probability 0.100\n",
      "    To [State FrogState(position=2) and Reward 0.000] with Probability 0.100\n",
      "    To [State FrogState(position=3) and Reward 0.000] with Probability 0.100\n",
      "    To [State FrogState(position=4) and Reward 0.000] with Probability 0.100\n",
      "    To [State FrogState(position=5) and Reward 0.000] with Probability 0.100\n",
      "    To [State FrogState(position=7) and Reward 0.000] with Probability 0.100\n",
      "    To [State FrogState(position=8) and Reward 0.000] with Probability 0.100\n",
      "    To [State FrogState(position=9) and Reward 0.000] with Probability 0.100\n",
      "    To [State FrogState(position=10) and Reward 1.000] with Probability 0.100\n",
      "From State FrogState(position=7):\n",
      "  With Action A:\n",
      "    To [State FrogState(position=6) and Reward 0.000] with Probability 0.700\n",
      "    To [State FrogState(position=8) and Reward 0.000] with Probability 0.300\n",
      "  With Action B:\n",
      "    To [State FrogState(position=0) and Reward 0.000] with Probability 0.100\n",
      "    To [State FrogState(position=1) and Reward 0.000] with Probability 0.100\n",
      "    To [State FrogState(position=2) and Reward 0.000] with Probability 0.100\n",
      "    To [State FrogState(position=3) and Reward 0.000] with Probability 0.100\n",
      "    To [State FrogState(position=4) and Reward 0.000] with Probability 0.100\n",
      "    To [State FrogState(position=5) and Reward 0.000] with Probability 0.100\n",
      "    To [State FrogState(position=6) and Reward 0.000] with Probability 0.100\n",
      "    To [State FrogState(position=8) and Reward 0.000] with Probability 0.100\n",
      "    To [State FrogState(position=9) and Reward 0.000] with Probability 0.100\n",
      "    To [State FrogState(position=10) and Reward 1.000] with Probability 0.100\n",
      "From State FrogState(position=8):\n",
      "  With Action A:\n",
      "    To [State FrogState(position=7) and Reward 0.000] with Probability 0.800\n",
      "    To [State FrogState(position=9) and Reward 0.000] with Probability 0.200\n",
      "  With Action B:\n",
      "    To [State FrogState(position=0) and Reward 0.000] with Probability 0.100\n",
      "    To [State FrogState(position=1) and Reward 0.000] with Probability 0.100\n",
      "    To [State FrogState(position=2) and Reward 0.000] with Probability 0.100\n",
      "    To [State FrogState(position=3) and Reward 0.000] with Probability 0.100\n",
      "    To [State FrogState(position=4) and Reward 0.000] with Probability 0.100\n",
      "    To [State FrogState(position=5) and Reward 0.000] with Probability 0.100\n",
      "    To [State FrogState(position=6) and Reward 0.000] with Probability 0.100\n",
      "    To [State FrogState(position=7) and Reward 0.000] with Probability 0.100\n",
      "    To [State FrogState(position=9) and Reward 0.000] with Probability 0.100\n",
      "    To [State FrogState(position=10) and Reward 1.000] with Probability 0.100\n",
      "From State FrogState(position=9):\n",
      "  With Action A:\n",
      "    To [State FrogState(position=8) and Reward 0.000] with Probability 0.900\n",
      "    To [State FrogState(position=10) and Reward 1.000] with Probability 0.100\n",
      "  With Action B:\n",
      "    To [State FrogState(position=0) and Reward 0.000] with Probability 0.100\n",
      "    To [State FrogState(position=1) and Reward 0.000] with Probability 0.100\n",
      "    To [State FrogState(position=2) and Reward 0.000] with Probability 0.100\n",
      "    To [State FrogState(position=3) and Reward 0.000] with Probability 0.100\n",
      "    To [State FrogState(position=4) and Reward 0.000] with Probability 0.100\n",
      "    To [State FrogState(position=5) and Reward 0.000] with Probability 0.100\n",
      "    To [State FrogState(position=6) and Reward 0.000] with Probability 0.100\n",
      "    To [State FrogState(position=7) and Reward 0.000] with Probability 0.100\n",
      "    To [State FrogState(position=8) and Reward 0.000] with Probability 0.100\n",
      "    To [State FrogState(position=10) and Reward 1.000] with Probability 0.100\n",
      "FrogState(position=10) is a Terminal State\n",
      "FrogState(position=0) is a Terminal State\n",
      "\n"
     ]
    }
   ],
   "source": [
    "gamma = 0.8\n",
    "pad = 10\n",
    "\n",
    "si_mdp: frog.FiniteMarkovDecisionProcess[frog.FrogState, int] = frog.FrogMDP(num_pad = pad)\n",
    "\n",
    "print(\"MDP Transition Map\")\n",
    "print(\"------------------\")\n",
    "print(si_mdp)\n"
   ]
  },
  {
   "cell_type": "markdown",
   "metadata": {},
   "source": [
    "### Compute the Optimal Value Function and Optimal Policy using <font color=blue>Policy Iteration </font> algorithm"
   ]
  },
  {
   "cell_type": "code",
   "execution_count": 4,
   "metadata": {},
   "outputs": [
    {
     "name": "stdout",
     "output_type": "stream",
     "text": [
      "Policy Iteration: Optimal Value Function and Optimal Policy\n",
      "-----------------------------------------------------------\n",
      "{FrogState(position=1): 0.2824061058293976, FrogState(position=2): 0.2824061058293976, FrogState(position=3): 0.2824061058293976, FrogState(position=4): 0.2824061058293976, FrogState(position=5): 0.2824061058293976, FrogState(position=6): 0.2824061058293976, FrogState(position=7): 0.2824061058293976, FrogState(position=8): 0.2824061058293976, FrogState(position=9): 0.30332433866457054}\n",
      "For State FrogState(position=1):\n",
      "  Do Action B with Probability 1.000\n",
      "For State FrogState(position=2):\n",
      "  Do Action B with Probability 1.000\n",
      "For State FrogState(position=3):\n",
      "  Do Action B with Probability 1.000\n",
      "For State FrogState(position=4):\n",
      "  Do Action B with Probability 1.000\n",
      "For State FrogState(position=5):\n",
      "  Do Action B with Probability 1.000\n",
      "For State FrogState(position=6):\n",
      "  Do Action B with Probability 1.000\n",
      "For State FrogState(position=7):\n",
      "  Do Action B with Probability 1.000\n",
      "For State FrogState(position=8):\n",
      "  Do Action B with Probability 1.000\n",
      "For State FrogState(position=9):\n",
      "  Do Action A with Probability 1.000\n",
      "\n"
     ]
    }
   ],
   "source": [
    "print(\"Policy Iteration: Optimal Value Function and Optimal Policy\")\n",
    "print(\"-----------------------------------------------------------\")\n",
    "\n",
    "opt_vf_pi, opt_policy_pi = frog.policy_iteration_result(si_mdp, gamma=gamma)\n",
    "print(opt_vf_pi)\n",
    "print(opt_policy_pi)"
   ]
  },
  {
   "cell_type": "markdown",
   "metadata": {},
   "source": [
    "### Compute the Optimal Value Function and Optimal Policy using <font color=blue>Value Iteration </font> algorithm"
   ]
  },
  {
   "cell_type": "code",
   "execution_count": 5,
   "metadata": {},
   "outputs": [
    {
     "name": "stdout",
     "output_type": "stream",
     "text": [
      "Value Iteration: Optimal Value Function and Optimal Policy\n",
      "----------------------------------------------------------\n",
      "{FrogState(position=1): 0.2824061058293976, FrogState(position=2): 0.2824061058293976, FrogState(position=3): 0.2824061058293976, FrogState(position=4): 0.2824061058293976, FrogState(position=5): 0.2824061058293976, FrogState(position=6): 0.2824061058293976, FrogState(position=7): 0.2824061058293976, FrogState(position=8): 0.2824061058293976, FrogState(position=9): 0.30332433866457054}\n",
      "For State FrogState(position=1):\n",
      "  Do Action B with Probability 1.000\n",
      "For State FrogState(position=2):\n",
      "  Do Action B with Probability 1.000\n",
      "For State FrogState(position=3):\n",
      "  Do Action B with Probability 1.000\n",
      "For State FrogState(position=4):\n",
      "  Do Action B with Probability 1.000\n",
      "For State FrogState(position=5):\n",
      "  Do Action B with Probability 1.000\n",
      "For State FrogState(position=6):\n",
      "  Do Action B with Probability 1.000\n",
      "For State FrogState(position=7):\n",
      "  Do Action B with Probability 1.000\n",
      "For State FrogState(position=8):\n",
      "  Do Action B with Probability 1.000\n",
      "For State FrogState(position=9):\n",
      "  Do Action A with Probability 1.000\n",
      "\n"
     ]
    }
   ],
   "source": [
    "print(\"Value Iteration: Optimal Value Function and Optimal Policy\")\n",
    "print(\"----------------------------------------------------------\")\n",
    "\n",
    "opt_vf_vi, opt_policy_vi = frog.value_iteration_result(si_mdp, gamma=gamma)\n",
    "print(opt_vf_vi)\n",
    "print(opt_policy_vi)"
   ]
  },
  {
   "cell_type": "markdown",
   "metadata": {},
   "source": [
    "### Analyze the computational efficiency of Policy Iteration versus Value Iteration in terms of speed of convergence to the Optimal Value Function. Plot some graphs of convergence speed for different values of n (the number of lilypads)."
   ]
  },
  {
   "cell_type": "markdown",
   "metadata": {},
   "source": [
    "#### n = 5"
   ]
  },
  {
   "cell_type": "code",
   "execution_count": 6,
   "metadata": {},
   "outputs": [
    {
     "name": "stdout",
     "output_type": "stream",
     "text": [
      "Value Iteration Time:  [9.5367431640625e-07, 0.0, 2.2172927856445312e-05, 0.0006499290466308594, 0.004345893859863281]\n",
      "Policy Iteration Time:  [9.5367431640625e-07, 1.1920928955078125e-06, 0.00018787384033203125, 0.00095367431640625, 0.003197908401489258]\n"
     ]
    }
   ],
   "source": [
    "val_iter_time = []\n",
    "pol_iter_time = []\n",
    "\n",
    "for n in range(0, 5):\n",
    "    \n",
    "    # Value Iteration\n",
    "    frog_MDP = frog.FrogMDP(n)\n",
    "    last = {}\n",
    "    v_i = value_iteration(mdp=frog_MDP, gamma=1)\n",
    "    t_0 = time.time()\n",
    "    \n",
    "    for vi in v_i:\n",
    "        if vi == last: break\n",
    "        last = vi\n",
    "    val_iter_time.append(time.time() - t_0)\n",
    "    \n",
    "    # Policy Iteration\n",
    "    p_i = policy_iteration(mdp=frog_MDP, gamma=1)\n",
    "    t_0 = time.time()\n",
    "    last = {}\n",
    "    \n",
    "    for pi, pp in p_i:\n",
    "        if pi == last: break\n",
    "        last = pi\n",
    "    pol_iter_time.append(time.time() - t_0)\n",
    "\n",
    "print('Value Iteration Time: ', val_iter_time)\n",
    "print('Policy Iteration Time: ', pol_iter_time)"
   ]
  },
  {
   "cell_type": "code",
   "execution_count": 7,
   "metadata": {},
   "outputs": [
    {
     "data": {
      "image/png": "[encoded data removed]",
      "text/plain": [
       "<Figure size 432x288 with 1 Axes>"
      ]
     },
     "metadata": {
      "needs_background": "light"
     },
     "output_type": "display_data"
    }
   ],
   "source": [
    "x_axis = [i for i in range(0, 5)]\n",
    "plt.plot(x_axis, val_iter_time, label=\"Value Iteration Time\")\n",
    "plt.plot(x_axis, pol_iter_time, label=\"Policy Iteration Time\")\n",
    "plt.legend()\n",
    "plt.show()"
   ]
  },
  {
   "cell_type": "markdown",
   "metadata": {},
   "source": [
    "#### n = 10"
   ]
  },
  {
   "cell_type": "code",
   "execution_count": 8,
   "metadata": {},
   "outputs": [
    {
     "name": "stdout",
     "output_type": "stream",
     "text": [
      "Value Iteration Time:  [2.1457672119140625e-06, 0.0, 2.5033950805664062e-05, 0.0006420612335205078, 0.0032341480255126953, 0.012189865112304688, 0.03522777557373047, 0.0922079086303711, 0.22800922393798828, 0.5789268016815186]\n",
      "Policy Iteration Time:  [2.1457672119140625e-06, 1.1920928955078125e-06, 0.00019979476928710938, 0.0011451244354248047, 0.003290891647338867, 0.007607936859130859, 0.018571853637695312, 0.0452570915222168, 0.10977029800415039, 0.24640107154846191]\n"
     ]
    }
   ],
   "source": [
    "val_iter_time = []\n",
    "pol_iter_time = []\n",
    "\n",
    "for n in range(0, 10):\n",
    "    \n",
    "    # Value Iteration\n",
    "    frog_MDP = frog.FrogMDP(n)\n",
    "    last = {}\n",
    "    v_i = value_iteration(mdp=frog_MDP, gamma=1)\n",
    "    t_0 = time.time()\n",
    "    \n",
    "    for vi in v_i:\n",
    "        if vi == last: break\n",
    "        last = vi\n",
    "    val_iter_time.append(time.time() - t_0)\n",
    "    \n",
    "    # Policy Iteration\n",
    "    p_i = policy_iteration(mdp=frog_MDP, gamma=1)\n",
    "    t_0 = time.time()\n",
    "    last = {}\n",
    "    \n",
    "    for pi, pp in p_i:\n",
    "        if pi == last: break\n",
    "        last = pi\n",
    "    pol_iter_time.append(time.time() - t_0)\n",
    "\n",
    "print('Value Iteration Time: ', val_iter_time)\n",
    "print('Policy Iteration Time: ', pol_iter_time)"
   ]
  },
  {
   "cell_type": "code",
   "execution_count": 9,
   "metadata": {},
   "outputs": [
    {
     "data": {
      "image/png": "[encoded data removed]",
      "text/plain": [
       "<Figure size 432x288 with 1 Axes>"
      ]
     },
     "metadata": {
      "needs_background": "light"
     },
     "output_type": "display_data"
    }
   ],
   "source": [
    "x_axis = [i for i in range(0, 10)]\n",
    "plt.plot(x_axis, val_iter_time, label=\"Value Iteration Time\")\n",
    "plt.plot(x_axis, pol_iter_time, label=\"Policy Iteration Time\")\n",
    "plt.legend()\n",
    "plt.show()"
   ]
  },
  {
   "cell_type": "markdown",
   "metadata": {},
   "source": [
    "### As illustrated above, we could see that the policy iteration algorithm is more efficient in terms of speed of convergence. "
   ]
  },
  {
   "cell_type": "code",
   "execution_count": null,
   "metadata": {},
   "outputs": [],
   "source": []
  }
 ],
 "metadata": {
  "kernelspec": {
   "display_name": "Python 3",
   "language": "python",
   "name": "python3"
  },
  "language_info": {
   "codemirror_mode": {
    "name": "ipython",
    "version": 3
   },
   "file_extension": ".py",
   "mimetype": "text/x-python",
   "name": "python",
   "nbconvert_exporter": "python",
   "pygments_lexer": "ipython3",
   "version": "3.7.3"
  }
 },
 "nbformat": 4,
 "nbformat_minor": 2
}
