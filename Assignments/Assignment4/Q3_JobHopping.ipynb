{
 "cells": [
  {
   "cell_type": "markdown",
   "metadata": {},
   "source": [
    "# Stanford CME 241 (Winter 2021) - Assignment 4\n",
    "## Job Hopping and Wages-Utility-Maximization\n",
    "\n",
    "### Chih-Hsuan 'Carolyn' Kao (chkao831@stanford.edu)\n",
    "### Mar 3rd, 2021"
   ]
  },
  {
   "cell_type": "code",
   "execution_count": 1,
   "metadata": {},
   "outputs": [],
   "source": [
    "from dataclasses import dataclass, field\n",
    "import numpy as np\n",
    "from typing import Generic, List, Mapping, Set, TypeVar"
   ]
  },
  {
   "cell_type": "code",
   "execution_count": 2,
   "metadata": {},
   "outputs": [],
   "source": [
    "@dataclass\n",
    "class WageMaximizer():\n",
    "\n",
    "    def __init__(\n",
    "        \n",
    "        self,\n",
    "        gamma: float,\n",
    "        alpha: float,\n",
    "        employed_states: List[int], \n",
    "        employed_wages: List[float],\n",
    "        probabilities: List[float],\n",
    "        unemployed_wage: float\n",
    "        \n",
    "    ):\n",
    "        self.gamma = gamma\n",
    "        self.alpha = alpha\n",
    "        # S = {s | s = 1, 2, 3, ..., n}\n",
    "        self.employed_states = employed_states\n",
    "        self.employed_wages = employed_wages\n",
    "        # s = n+1 with corresponding w+1\n",
    "        self.unemployed_wage = unemployed_wage\n",
    "        self.unemployed_state = len(employed_states) + 1\n",
    "        # job-offer probabilities\n",
    "        self.prob = probabilities\n",
    "        # A = {0:reject, 1:accept}\n",
    "        self.actions = {0, 1}\n",
    "    \n",
    "    def P(self, cr_state: int, action: str, nx_state: int) -> float:\n",
    "        \n",
    "        if (action, nx_state) == (1, self.unemployed_state):\n",
    "            return 0\n",
    "        \n",
    "        if (cr_state, action) == (self.unemployed_state, 0):\n",
    "            return 0\n",
    "        \n",
    "        if (cr_state, action, nx_state) ==\\\n",
    "            (self.unemployed_state, 0, self.unemployed_state):\n",
    "            return 1\n",
    "        \n",
    "        if nx_state == self.unemployed_state:\n",
    "            # with probability of alpha, will lose job\n",
    "            return self.alpha\n",
    "        \n",
    "        if cr_state == nx_state:\n",
    "            # with probability of 1-alpha, will not lose job\n",
    "            return 1 - self.alpha\n",
    "        \n",
    "        if (cr_state, action) == (self.unemployed_state, 1):\n",
    "            # while unemployed, offered job prob probs p1, p2...pn\n",
    "            probs = { s:p for s,p in zip(self.employed_states, self.prob)}\n",
    "            return probs[nx_state]\n",
    "        \n",
    "        return 0\n",
    "    \n",
    "    def R(self, state: int, action: str) -> float:\n",
    "\n",
    "        if (state, action) == (self.unemployed_state, 0): # unemployed -> reject\n",
    "            return np.log(self.unemployed_wage)\n",
    "        if (state, action) == (self.unemployed_state, 1): # unemployed -> accept\n",
    "            return np.log(np.array(self.employed_wages)@np.array(self.prob))\n",
    "        \n",
    "        # employed\n",
    "        wage_series = { s:r for s,r in zip(self.employed_states, self.employed_wages)}\n",
    "        return np.log(wage_series[state])\n",
    "    \n",
    "    def all_states(self) -> List[int]:\n",
    "        \n",
    "        return self.employed_states + [self.unemployed_state]\n",
    "    \n",
    "    def value_iteration(self) -> np.array:\n",
    "\n",
    "        vk = np.zeros(len(self.all_states()))\n",
    "        \n",
    "        def optimization(s: int, v: np.array) -> float:\n",
    "\n",
    "            maximum = float(\"-inf\")\n",
    "            \n",
    "            for a in self.actions:\n",
    "                summation = sum(\n",
    "                    self.P(s, a, nx) * v[j] for j, nx in enumerate(self.all_states()))\n",
    "                val = self.R(s, a) + self.gamma * summation\n",
    "                \n",
    "                maximum = max(val, maximum)\n",
    "                \n",
    "            return maximum\n",
    "        \n",
    "        while True:\n",
    "            \n",
    "            optimized = vk.copy()\n",
    "            for i, state in enumerate(self.all_states()):\n",
    "                optimized[i] = optimization(state, vk)\n",
    "            if np.linalg.norm(optimized - vk) < 1e-8:\n",
    "                return {state:val for state,val in zip(solver.all_states(), optimized)}\n",
    "            \n",
    "            vk = optimized\n",
    "            \n",
    "    def optimal_policy(self) -> Mapping[int, str]:\n",
    "\n",
    "        pi = {}\n",
    "        v_star = self.value_iteration()\n",
    "        \n",
    "        def q_star(s: int, a: str) -> float:\n",
    "\n",
    "            return (self.R(s, a) + self.gamma * sum(self.P(s, a, nx) * v_star[nx] \n",
    "                    for nx in self.all_states()))\n",
    "        \n",
    "        for s in self.all_states():\n",
    "            \n",
    "            maximum = float(\"-inf\")\n",
    "            action = None\n",
    "            \n",
    "            for a in self.actions:\n",
    "                if q_star(s, a) > maximum:\n",
    "                    maximum = q_star(s, a)\n",
    "                    action = a\n",
    "            pi[s] = action\n",
    "            \n",
    "        return pi"
   ]
  },
  {
   "cell_type": "code",
   "execution_count": 3,
   "metadata": {},
   "outputs": [
    {
     "data": {
      "text/plain": [
       "{1: 18.89329117290495,\n",
       " 2: 18.89329117290495,\n",
       " 3: 21.02731805768476,\n",
       " 4: 21.02731805768476,\n",
       " 5: 17.933704031884137,\n",
       " 6: 19.977398413981216}"
      ]
     },
     "execution_count": 3,
     "metadata": {},
     "output_type": "execute_result"
    }
   ],
   "source": [
    "import random\n",
    "\n",
    "gamma = 0.9\n",
    "alpha = 0.1\n",
    "employed_states = list(range(1,6))\n",
    "employed_wages = []\n",
    "for i in range(0,5):\n",
    "    n = random.randint(2,10)\n",
    "    employed_wages.append(n)\n",
    "probs = np.random.dirichlet(np.ones(5),size=1).tolist()[0]\n",
    "unemployed_wage: float = 1\n",
    "\n",
    "solver = WageMaximizer(\n",
    "    gamma=gamma,\n",
    "    alpha=alpha,\n",
    "    employed_states=employed_states,\n",
    "    employed_wages=employed_wages,\n",
    "    probabilities=np.array(probs),\n",
    "    unemployed_wage=unemployed_wage,\n",
    ")\n",
    "v_star = solver.value_iteration()\n",
    "v_star"
   ]
  },
  {
   "cell_type": "code",
   "execution_count": 4,
   "metadata": {},
   "outputs": [
    {
     "name": "stdout",
     "output_type": "stream",
     "text": [
      "Accept (1) or Reject (0) Decisions:\n",
      "{1: 0, 2: 0, 3: 0, 4: 0, 5: 0, 6: 1}\n"
     ]
    }
   ],
   "source": [
    "opt_policy = solver.optimal_policy()\n",
    "print(\"Accept (1) or Reject (0) Decisions:\")\n",
    "print(opt_policy)"
   ]
  },
  {
   "cell_type": "code",
   "execution_count": null,
   "metadata": {},
   "outputs": [],
   "source": []
  }
 ],
 "metadata": {
  "kernelspec": {
   "display_name": "Python 3",
   "language": "python",
   "name": "python3"
  },
  "language_info": {
   "codemirror_mode": {
    "name": "ipython",
    "version": 3
   },
   "file_extension": ".py",
   "mimetype": "text/x-python",
   "name": "python",
   "nbconvert_exporter": "python",
   "pygments_lexer": "ipython3",
   "version": "3.7.3"
  }
 },
 "nbformat": 4,
 "nbformat_minor": 2
}
