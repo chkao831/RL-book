{
 "cells": [
  {
   "cell_type": "markdown",
   "metadata": {},
   "source": [
    "# Stanford CME 241 (Winter 2021) - Assignment 5\n",
    "## Implemeting FunctionApprox\n",
    "\n",
    "### Chih-Hsuan 'Carolyn' Kao (chkao831@stanford.edu)\n",
    "### Mar 8th, 2021\n",
    "\n",
    "### Apapted from interface at https://github.com/TikhonJelvis/RL-book/blob/master/rl/function_approx.py"
   ]
  },
  {
   "cell_type": "code",
   "execution_count": 2,
   "metadata": {},
   "outputs": [
    {
     "data": {
      "image/png": "[encoded data removed]",
      "text/plain": [
       "<Figure size 432x288 with 1 Axes>"
      ]
     },
     "metadata": {
      "needs_background": "light"
     },
     "output_type": "display_data"
    }
   ],
   "source": [
    "import matplotlib.pyplot as plt\n",
    "import numpy as np\n",
    "from scipy.interpolate import UnivariateSpline\n",
    "\n",
    "x = np.linspace(-5, 5, 50)\n",
    "y = np.exp(x) + 0.5 * np.random.randn(50)\n",
    "plt.plot(x, y, 'o')\n",
    "\n",
    "spl = UnivariateSpline(x, y)\n",
    "xs = np.linspace(-5, 5, 100)\n",
    "plt.plot(xs, spl(xs), 'red', lw=2)\n",
    "\n",
    "plt.show()"
   ]
  },
  {
   "cell_type": "markdown",
   "metadata": {},
   "source": [
    "### Implement a form of FunctionApprox (try implementing Univariate B-Spline)"
   ]
  },
  {
   "cell_type": "code",
   "execution_count": null,
   "metadata": {},
   "outputs": [],
   "source": [
    "import sys\n",
    "sys.path.append('/Users/chih-hsuankao/Desktop/CME241/RL-book/')\n",
    "\n",
    "from rl.function_approx import FunctionApprox"
   ]
  },
  {
   "cell_type": "code",
   "execution_count": null,
   "metadata": {},
   "outputs": [],
   "source": [
    "from dataclasses import dataclass, field\n",
    "from typing import Iterable, Tuple, Optional, TypeVar"
   ]
  },
  {
   "cell_type": "code",
   "execution_count": null,
   "metadata": {},
   "outputs": [],
   "source": [
    "@dataclass(frozen=True)\n",
    "class UnivariateSplineApprox(FunctionApprox[float]):\n",
    "    \n",
    "    B_spline: UnivariateSpline = field(default=None, init=False, repr=False)\n",
    "    \n",
    "    def representational_gradient(self, x_value: float) -> UnivariateSplineApprox[float]:\n",
    "\n",
    "        return self.B_spline.derivative(x)[0]\n",
    "    \n",
    "    def evaluate(self, x_values_seq: Iterable[float]) -> np.ndarray:\n",
    "        \n",
    "        return np.array([self.B_spline(x) for x in x_values_seq])\n",
    "    \n",
    "    def update(self, xy_vals_seq: Iterable[Tuple[float, float]]) -> UnivariateSplineApprox[float]:\n",
    "\n",
    "        x, y = zip(*xy_vals_seq)\n",
    "        self.B_spline = UnivariateSpline(x, y)\n",
    "        \n",
    "        return self\n",
    "    \n",
    "    def solve(self, \n",
    "              xy_vals_seq: Iterable[Tuple[float, float]], \n",
    "              error_tolerance: Optional[float] = None) -> UnivariateSplineApprox[float]:\n",
    "        \n",
    "        return self.update(xy_vals_seq)\n",
    "    \n",
    "    def within(self, other: UnivariateSplineApprox[float], tolerance: float = 1e-8) -> bool:\n",
    "        \n",
    "        knots = self.B_spline.get_knots()\n",
    "        coeffs = self.B_spline.get_coeffs()\n",
    "        \n",
    "        if isinstance(other, UnivariateSplineApprox):\n",
    "            return all(\n",
    "                np.abs(knots - other.B_spline.get_knots() <= tolerance).item()\n",
    "                and\n",
    "                np.abs(coeffs - other.B_spline.get_coeffs() <= tolerance).item()\n",
    "            )\n",
    "        return False"
   ]
  },
  {
   "cell_type": "code",
   "execution_count": null,
   "metadata": {},
   "outputs": [],
   "source": []
  }
 ],
 "metadata": {
  "kernelspec": {
   "display_name": "Python 3",
   "language": "python",
   "name": "python3"
  },
  "language_info": {
   "codemirror_mode": {
    "name": "ipython",
    "version": 3
   },
   "file_extension": ".py",
   "mimetype": "text/x-python",
   "name": "python",
   "nbconvert_exporter": "python",
   "pygments_lexer": "ipython3",
   "version": "3.7.3"
  }
 },
 "nbformat": 4,
 "nbformat_minor": 2
}
